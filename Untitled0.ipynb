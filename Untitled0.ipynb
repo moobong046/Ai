{
  "nbformat": 4,
  "nbformat_minor": 0,
  "metadata": {
    "colab": {
      "provenance": [],
      "authorship_tag": "ABX9TyO898m7pTMDzSbuPlyGWq8G",
      "include_colab_link": true
    },
    "kernelspec": {
      "name": "python3",
      "display_name": "Python 3"
    },
    "language_info": {
      "name": "python"
    }
  },
  "cells": [
    {
      "cell_type": "markdown",
      "metadata": {
        "id": "view-in-github",
        "colab_type": "text"
      },
      "source": [
        "<a href=\"https://colab.research.google.com/github/moobong046/Ai/blob/main/Untitled0.ipynb\" target=\"_parent\"><img src=\"https://colab.research.google.com/assets/colab-badge.svg\" alt=\"Open In Colab\"/></a>"
      ]
    },
    {
      "cell_type": "code",
      "execution_count": null,
      "metadata": {
        "id": "EZkA7HDBQoBq"
      },
      "outputs": [],
      "source": [
        "import numpy as np\n",
        "import os\n",
        "import csv\n",
        "movie_path=\"/content/IMDB top 1000.csv\"\n",
        "data_list=[]\n",
        "with open(movie_path,\"r\",encoding=\"utf-8\")as f:\n",
        "  reader=csv.reader(f)\n",
        "  header=next(reader)\n",
        "  for row in reader:\n",
        "    data_list.append(row)\n",
        "\n",
        "data_array=np.array(data_list)\n",
        "title_idx=header.index(\"Title\")\n",
        "genre_idx=header.index(\"Genre\")\n",
        "rate_idx=header.index(\"Rate\")\n",
        "\n",
        "selected_data=data_array[:,[title_idx,genre_idx,rate_idx]]\n",
        "filtered_data=selected_data[~np.any(selected_data=='',axis=1)]\n"
      ]
    },
    {
      "cell_type": "code",
      "source": [
        "#2\n",
        "x=filtered_data[:,2].astype(float) #계산하기 위해 행은 전체, 열의 2번째 Rate(점수)열의 데이터타입을 실수형으로 변환.\n",
        "print(f\"총 영화의 개수:\",filtered_data.shape[0]) #shape함수는 데이터의 형태를 나타내는 함수로 (행,열)의 값을 반환.\n",
        "#필요한 것은 총 영화의 개수로 행의 값을 반환하기위해 인덱스 0에 위치한 행을 불러옴.\n",
        "\n",
        "print(f\"평점 평균:\",np.mean(x)) #앞서, Rate(점수)열을 실수형으로 바꾼 x변수를, numpy mean함수를 이용하여 평균 계산.\n",
        "print(f\"최고 평점:\",np.max(x)) #동일하게 numpy max함수를 이용하여 최고 평점 계산\n",
        "print(f\"최저 평점:\",np.min(x)) #동일하게 numpy min함수를 이용하여 최저 평점 계산"
      ],
      "metadata": {
        "id": "ZeEWVmEGQwgJ"
      },
      "execution_count": null,
      "outputs": []
    }
  ]
}