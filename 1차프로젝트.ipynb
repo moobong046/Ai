{
  "nbformat": 4,
  "nbformat_minor": 0,
  "metadata": {
    "colab": {
      "provenance": [],
      "authorship_tag": "ABX9TyMt+Gy7lEUzs2/9IAqCQToG",
      "include_colab_link": true
    },
    "kernelspec": {
      "name": "python3",
      "display_name": "Python 3"
    },
    "language_info": {
      "name": "python"
    }
  },
  "cells": [
    {
      "cell_type": "markdown",
      "metadata": {
        "id": "view-in-github",
        "colab_type": "text"
      },
      "source": [
        "<a href=\"https://colab.research.google.com/github/moobong046/Ai/blob/main/1%EC%B0%A8%ED%94%84%EB%A1%9C%EC%A0%9D%ED%8A%B8.ipynb\" target=\"_parent\"><img src=\"https://colab.research.google.com/assets/colab-badge.svg\" alt=\"Open In Colab\"/></a>"
      ]
    },
    {
      "cell_type": "code",
      "source": [
        "import numpy as np\n",
        "import csv\n",
        "import os"
      ],
      "metadata": {
        "id": "44ANVYxdvsmd"
      },
      "execution_count": 4,
      "outputs": []
    },
    {
      "cell_type": "code",
      "source": [
        "\n",
        "movie_path=\"/content/IMDB top 1000.csv\"\n",
        "data_list=[]\n",
        "with open(movie_path,\"r\",encoding=\"utf-8\")as f:\n",
        "  reader=csv.reader(f)\n",
        "  header=next(reader)\n",
        "  for row in reader:\n",
        "    data_list.append(row)\n",
        "\n",
        "data_array=np.array(data_list)\n",
        "title_idx=header.index(\"Title\")\n",
        "genre_idx=header.index(\"Genre\")\n",
        "rate_idx=header.index(\"Rate\")\n",
        "\n",
        "selected_data=data_array[:,[title_idx,genre_idx,rate_idx]]\n",
        "filtered_data=selected_data[~np.any(selected_data=='',axis=1)]\n",
        "\n",
        "print(filtered_data)"
      ],
      "metadata": {
        "colab": {
          "base_uri": "https://localhost:8080/"
        },
        "id": "OvTOJeeUvrYo",
        "outputId": "c013dbe2-3684-44da-d8d5-a992a5254cfb"
      },
      "execution_count": 6,
      "outputs": [
        {
          "output_type": "stream",
          "name": "stdout",
          "text": [
            "[['1. The Shawshank Redemption (1994)' 'Drama' '9.3']\n",
            " ['2. The Godfather (1972)' 'Crime, Drama' '9.2']\n",
            " ['3. The Dark Knight (2008)' 'Action, Crime, Drama' '9.0']\n",
            " ...\n",
            " ['400. JFK (1991)' 'Drama, History, Thriller' '8.0']\n",
            " ['301. Nights of Cabiria (1957)' 'Drama' '8.1']\n",
            " ['302. Throne of Blood (1957)' 'Drama, History' '8.1']]\n"
          ]
        }
      ]
    },
    {
      "cell_type": "code",
      "source": [
        "#2\n",
        "row,column=filtered_data.shape\n",
        "x=filtered_data[:,2].astype(float)\n",
        "score=x.mean()\n",
        "max_score=x.max()\n",
        "min_score=x.min()\n",
        "print(f\"총 영화의 개수:{row}\")\n",
        "print(f\"평점 평균:{score}\")\n",
        "print(f\"최고 평점:{max_score}\")\n",
        "print(f\"최저 평점:{min_score}\")"
      ],
      "metadata": {
        "colab": {
          "base_uri": "https://localhost:8080/"
        },
        "id": "Y92QwY41vy-l",
        "outputId": "19596ec6-4338-4c95-ec17-913b07a4eba0"
      },
      "execution_count": 44,
      "outputs": [
        {
          "output_type": "stream",
          "name": "stdout",
          "text": [
            "float64\n",
            "총 영화의 개수:1000\n",
            "평점 평균:8.0975\n",
            "최고 평점:9.3\n",
            "최저 평점:8.0\n"
          ]
        }
      ]
    }
  ]
}