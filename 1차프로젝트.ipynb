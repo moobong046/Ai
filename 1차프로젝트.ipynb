{
  "nbformat": 4,
  "nbformat_minor": 0,
  "metadata": {
    "colab": {
      "provenance": [],
      "authorship_tag": "ABX9TyP/3KZn5HXkjLUAGst7vfxk",
      "include_colab_link": true
    },
    "kernelspec": {
      "name": "python3",
      "display_name": "Python 3"
    },
    "language_info": {
      "name": "python"
    }
  },
  "cells": [
    {
      "cell_type": "markdown",
      "metadata": {
        "id": "view-in-github",
        "colab_type": "text"
      },
      "source": [
        "<a href=\"https://colab.research.google.com/github/moobong046/Ai/blob/main/1%EC%B0%A8%ED%94%84%EB%A1%9C%EC%A0%9D%ED%8A%B8.ipynb\" target=\"_parent\"><img src=\"https://colab.research.google.com/assets/colab-badge.svg\" alt=\"Open In Colab\"/></a>"
      ]
    },
    {
      "cell_type": "code",
      "source": [
        "import numpy as np\n",
        "import os"
      ],
      "metadata": {
        "id": "44ANVYxdvsmd"
      },
      "execution_count": 50,
      "outputs": []
    },
    {
      "cell_type": "code",
      "source": [
        "movie_path=\"/content/IMDB top 1000.csv\"\n",
        "data_list=[]\n",
        "with open(movie_path,\"r\",encoding=\"utf-8\")as f:\n",
        "  reader=csv.reader(f)\n",
        "  header=next(reader)\n",
        "  for row in reader:\n",
        "    data_list.append(row)\n",
        "\n",
        "data_array=np.array(data_list)\n",
        "title_idx=header.index(\"Title\")\n",
        "genre_idx=header.index(\"Genre\")\n",
        "rate_idx=header.index(\"Rate\")\n",
        "\n",
        "selected_data=data_array[:,[title_idx,genre_idx,rate_idx]]\n",
        "filtered_data=selected_data[~np.any(selected_data=='',axis=1)]"
      ],
      "metadata": {
        "id": "OvTOJeeUvrYo"
      },
      "execution_count": 51,
      "outputs": []
    },
    {
      "cell_type": "code",
      "source": [
        "#2\n",
        "row,column=filtered_data.shape\n",
        "x=filtered_data[:,2].astype(float)\n",
        "score=x.mean()\n",
        "max_score=x.max()\n",
        "min_score=x.min()\n",
        "print(f\"총 영화의 개수:{row}\")\n",
        "print(f\"평점 평균:{score}\")\n",
        "print(f\"최고 평점:{max_score}\")\n",
        "print(f\"최저 평점:{min_score}\")"
      ],
      "metadata": {
        "colab": {
          "base_uri": "https://localhost:8080/"
        },
        "id": "Y92QwY41vy-l",
        "outputId": "5a6ff060-418d-4373-a9d2-af12a9388cec"
      },
      "execution_count": 52,
      "outputs": [
        {
          "output_type": "stream",
          "name": "stdout",
          "text": [
            "총 영화의 개수:1000\n",
            "평점 평균:8.0975\n",
            "최고 평점:9.3\n",
            "최저 평점:8.0\n"
          ]
        }
      ]
    },
    {
      "cell_type": "code",
      "source": [],
      "metadata": {
        "id": "g_Gd6kEeiLsP"
      },
      "execution_count": null,
      "outputs": []
    }
  ]
}